{
 "cells": [
  {
   "cell_type": "code",
   "execution_count": 78,
   "metadata": {},
   "outputs": [],
   "source": [
    "import pandas as pd\n",
    "import numpy as np\n",
    "import json\n",
    "import os\n",
    "import shutil"
   ]
  },
  {
   "cell_type": "code",
   "execution_count": 3,
   "metadata": {},
   "outputs": [],
   "source": [
    "file_data = []\n",
    "with open('../hack/catalogo-ns.json', encoding='utf-8') as f:\n",
    "    for line in f:\n",
    "        file_data.append(json.loads(line))"
   ]
  },
  {
   "cell_type": "code",
   "execution_count": 14,
   "metadata": {},
   "outputs": [],
   "source": [
    "folders = os.listdir('../hack/produtos/')\n",
    "subfolders = []\n",
    "for folder in folders:\n",
    "    if folder != '.DS_Store':\n",
    "        subfolders.append(os.listdir('../hack/produtos/'+folder))"
   ]
  },
  {
   "cell_type": "code",
   "execution_count": 20,
   "metadata": {},
   "outputs": [],
   "source": [
    "flat_subfolders_list = [item for sublist in subfolders for item in sublist]"
   ]
  },
  {
   "cell_type": "code",
   "execution_count": 25,
   "metadata": {},
   "outputs": [],
   "source": [
    "save_product = []\n",
    "for i in range(len(file_data)):\n",
    "    product_id = file_data[i]['code']\n",
    "    if product_id in flat_subfolders_list:\n",
    "        save_product.append(file_data[])"
   ]
  },
  {
   "cell_type": "code",
   "execution_count": 33,
   "metadata": {},
   "outputs": [],
   "source": [
    "with open('data.json', 'w') as outfile:\n",
    "    json.dump(save_product, outfile)"
   ]
  },
  {
   "cell_type": "code",
   "execution_count": 47,
   "metadata": {
    "scrolled": true
   },
   "outputs": [
    {
     "data": {
      "text/plain": [
       "array(['Tênis Performance', 'Tênis', 'Packs', 'Termogênicos', 'Patins',\n",
       "       'Whey Protein', 'Jaquetas e Casacos', 'Glutamina', 'Bonés',\n",
       "       'Uniformes', 'Pré-treino', 'Camisas de Time', 'Botas', 'Chuteiras',\n",
       "       'Meias', 'Camisetas', 'Sapatênis', 'Bermudas', 'Hipercalóricos',\n",
       "       'Testosterona-ZMA', 'Mochilas', 'BCAA', 'Gourmet', 'Caneleiras',\n",
       "       'Creatina', 'Barras Protéicas', 'Bolas', 'Colchonetes e Tapetes',\n",
       "       'Relógios - Smartwatches', 'Chinelos', 'Sapatilhas', 'Kimonos',\n",
       "       'Viseiras', 'Relógios', 'Kits', 'Moletons', 'Multivitamínicos',\n",
       "       'L-Carnitinas', 'Proteína da Carne', 'Calças',\n",
       "       'Equipamentos de Segurança', 'Ômega e Ácidos Graxos', 'Bicicletas',\n",
       "       'Treinamento Funcional - Cross Fit', 'Malas', 'Camisas Polo',\n",
       "       'Crocs Clássico', 'Cuecas', 'Tops', 'Quitosana', 'Regatas',\n",
       "       'Colágenos', 'Meiões', 'Agasalhos',\n",
       "       'Joelheiras e Faixas de Joelho', 'Shorts'], dtype=object)"
      ]
     },
     "execution_count": 47,
     "metadata": {},
     "output_type": "execute_result"
    }
   ],
   "source": [
    "pd.read_json('data.json')['productType'].unique()"
   ]
  },
  {
   "cell_type": "code",
   "execution_count": 48,
   "metadata": {},
   "outputs": [],
   "source": [
    "productType_clean = ['Tênis Performance',\n",
    "'Tênis',\n",
    "#'Packs',\n",
    "#'Termogênicos',\n",
    "'Patins',\n",
    "#'Whey Protein',\n",
    "'Jaquetas e Casacos',\n",
    "#'Glutamina',\n",
    "'Bonés',\n",
    "'Uniformes',\n",
    "'Pré-treino',\n",
    "'Camisas de Time',\n",
    "'Botas',\n",
    "'Chuteiras',\n",
    "#'Meias',\n",
    "'Camisetas',\n",
    "'Sapatênis',\n",
    "'Bermudas',\n",
    "#'Hipercalóricos',\n",
    "#'Testosterona-ZMA',\n",
    "#'Mochilas',\n",
    "#'BCAA',\n",
    "#'Gourmet',\n",
    "#'Caneleiras',\n",
    "#'Creatina',\n",
    "#'Barras Protéicas',\n",
    "#'Bolas',\n",
    "#'Colchonetes e Tapetes',\n",
    "#'Relógios - Smartwatches',\n",
    "'Chinelos',\n",
    "'Sapatilhas',\n",
    "#'Kimonos',\n",
    "'Viseiras',\n",
    "#'Relógios',\n",
    "#'Kits',\n",
    "'Moletons',\n",
    "#'Multivitamínicos',\n",
    "#'L-Carnitinas',\n",
    "#'Proteína da Carne',\n",
    "'Calças',\n",
    "#'Equipamentos de Segurança',\n",
    "#'Ômega e Ácidos Graxos',\n",
    "#'Bicicletas',\n",
    "#'Treinamento Funcional - Cross Fit',\n",
    "#'Malas',\n",
    "'Camisas Polo',\n",
    "'Crocs Clássico',\n",
    "#'Cuecas',\n",
    "'Tops', \n",
    "#'Quitosana',\n",
    "'Regatas',\n",
    "#'Colágenos',\n",
    "#'Meiões',\n",
    "'Agasalhos',\n",
    "#'Joelheiras e Faixas de Joelho',\n",
    "'Shorts']"
   ]
  },
  {
   "cell_type": "code",
   "execution_count": 50,
   "metadata": {},
   "outputs": [],
   "source": [
    "data = pd.read_json('data.json')"
   ]
  },
  {
   "cell_type": "code",
   "execution_count": 58,
   "metadata": {},
   "outputs": [],
   "source": [
    "products_clean_indices = np.asarray(data[data.productType.isin(productType_clean)].index)"
   ]
  },
  {
   "cell_type": "code",
   "execution_count": 69,
   "metadata": {},
   "outputs": [],
   "source": [
    "products_clean = []\n",
    "for i in range(len(save_product)):\n",
    "    if i in products_clean_indices:\n",
    "        products_clean.append(save_product[i])"
   ]
  },
  {
   "cell_type": "code",
   "execution_count": 96,
   "metadata": {},
   "outputs": [
    {
     "data": {
      "text/plain": [
       "774"
      ]
     },
     "execution_count": 96,
     "metadata": {},
     "output_type": "execute_result"
    }
   ],
   "source": [
    "len(products_clean)"
   ]
  },
  {
   "cell_type": "code",
   "execution_count": 99,
   "metadata": {},
   "outputs": [
    {
     "data": {
      "text/plain": [
       "115    307-9729-006\n",
       "613    307-9940-006\n",
       "619    D22-0488-006\n",
       "705    D53-0170-006\n",
       "708    D53-0170-012\n",
       "Name: code, dtype: object"
      ]
     },
     "execution_count": 99,
     "metadata": {},
     "output_type": "execute_result"
    }
   ],
   "source": [
    "products_clean[products_clean.productType == 'Sapatilhas']['code']"
   ]
  },
  {
   "cell_type": "code",
   "execution_count": 97,
   "metadata": {},
   "outputs": [
    {
     "data": {
      "text/plain": [
       "Tênis                 342\n",
       "Camisas de Time        75\n",
       "Chuteiras              66\n",
       "Camisetas              60\n",
       "Sapatênis              44\n",
       "Tênis Performance      44\n",
       "Uniformes              34\n",
       "Jaquetas e Casacos     18\n",
       "Botas                  13\n",
       "Chinelos               11\n",
       "Bermudas               10\n",
       "Calças                  9\n",
       "Bonés                   8\n",
       "Patins                  8\n",
       "Camisas Polo            7\n",
       "Moletons                6\n",
       "Sapatilhas              5\n",
       "Tops                    3\n",
       "Agasalhos               3\n",
       "Crocs Clássico          3\n",
       "Regatas                 2\n",
       "Pré-treino              1\n",
       "Shorts                  1\n",
       "Viseiras                1\n",
       "Name: productType, dtype: int64"
      ]
     },
     "execution_count": 97,
     "metadata": {},
     "output_type": "execute_result"
    }
   ],
   "source": [
    "products_clean.productType.value_counts()"
   ]
  },
  {
   "cell_type": "code",
   "execution_count": 73,
   "metadata": {},
   "outputs": [],
   "source": [
    "with open('products_clean.json', 'w') as outfile:\n",
    "    json.dump(products_clean, outfile)"
   ]
  },
  {
   "cell_type": "code",
   "execution_count": 74,
   "metadata": {},
   "outputs": [],
   "source": [
    "products_clean = pd.read_json('products_clean.json')"
   ]
  },
  {
   "cell_type": "code",
   "execution_count": 76,
   "metadata": {},
   "outputs": [],
   "source": [
    "code_products = np.asarray(products_clean.code)"
   ]
  },
  {
   "cell_type": "code",
   "execution_count": 82,
   "metadata": {},
   "outputs": [],
   "source": [
    "folders_list = os.listdir('../hack/produtos/')"
   ]
  },
  {
   "cell_type": "code",
   "execution_count": 81,
   "metadata": {},
   "outputs": [],
   "source": [
    "dest = os.path.join('..','/produtos_clean') "
   ]
  },
  {
   "cell_type": "code",
   "execution_count": null,
   "metadata": {},
   "outputs": [],
   "source": [
    "folders = os.listdir('../hack/produtos/')\n",
    "subfolders = []\n",
    "for folder in folders:\n",
    "    \n",
    "        if os.listdir('../hack/produtos/'+folder)\n",
    "        subfolders.append(os.listdir('../hack/produtos/'+folder))"
   ]
  },
  {
   "cell_type": "code",
   "execution_count": 102,
   "metadata": {},
   "outputs": [],
   "source": [
    "folders = os.listdir('../hack/produtos/')\n",
    "\n",
    "for folder in folders:\n",
    "    if folder != '.DS_Store':\n",
    "        sub_dirs = os.listdir('../hack/produtos/'+folder)\n",
    "        for sub_dir in sub_dirs:\n",
    "            if sub_dir in code_products:\n",
    "                dir_to_move = os.path.join('../hack/produtos/'+folder, sub_dir)\n",
    "                shutil.copytree(dir_to_move, '/home/amenegola/Downloads/hackaton_netshoes/produtos_clean/'+sub_dir)"
   ]
  },
  {
   "cell_type": "code",
   "execution_count": 105,
   "metadata": {},
   "outputs": [],
   "source": [
    "folders = os.listdir('../produtos_clean/')\n",
    "\n",
    "for folder in folders:\n",
    "    images = os.listdir('../produtos_clean/'+folder)\n",
    "    for image in images:\n",
    "        if not image.endswith('detalhe1.jpg'):\n",
    "            os.remove('../produtos_clean/'+folder+'/'+image)"
   ]
  },
  {
   "cell_type": "code",
   "execution_count": null,
   "metadata": {},
   "outputs": [],
   "source": [
    "#now you can run on shell to flatten the images  on the folder:\n",
    "\n",
    "# $ find produtos_clean/ -mindepth 1 -type f -exec mv -t produtos_clean/ -i '{}' +"
   ]
  }
 ],
 "metadata": {
  "kernelspec": {
   "display_name": "Python 3",
   "language": "python",
   "name": "python3"
  },
  "language_info": {
   "codemirror_mode": {
    "name": "ipython",
    "version": 3
   },
   "file_extension": ".py",
   "mimetype": "text/x-python",
   "name": "python",
   "nbconvert_exporter": "python",
   "pygments_lexer": "ipython3",
   "version": "3.6.4"
  }
 },
 "nbformat": 4,
 "nbformat_minor": 2
}
