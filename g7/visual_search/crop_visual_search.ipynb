{
 "cells": [
  {
   "cell_type": "code",
   "execution_count": 93,
   "metadata": {},
   "outputs": [],
   "source": [
    "from matplotlib import pyplot as plt\n",
    "from urllib import request\n",
    "import pandas as pd\n",
    "import numpy as np\n",
    "import os\n",
    "import requests, json\n",
    "import cv2"
   ]
  },
  {
   "cell_type": "code",
   "execution_count": null,
   "metadata": {},
   "outputs": [],
   "source": [
    "BASE_URI = 'https://api.cognitive.microsoft.com/bing/v7.0/images/visualsearch'\n",
    "HEADERS = {'Ocp-Apim-Subscription-Key': 'f62f5db4efa6496995702b547caa8386'}"
   ]
  },
  {
   "cell_type": "code",
   "execution_count": 24,
   "metadata": {},
   "outputs": [],
   "source": [
    "def auxRectangles(top_left, bottom_right, shape):\n",
    "    \n",
    "    new_top_left = int(shape[1]*top_left['x']),int(shape[0]*top_left['y'])\n",
    "    \n",
    "    new_bottom_right = int(shape[1]*bottom_right['x']),int(shape[0]*bottom_right['y'])\n",
    "    \n",
    "    return(new_top_left, new_bottom_right)"
   ]
  },
  {
   "cell_type": "code",
   "execution_count": 106,
   "metadata": {},
   "outputs": [],
   "source": [
    "images=os.listdir('C:/Users/Igor.Liberto/Desktop/produtos_clean')\n",
    "for image in images:\n",
    "    imagePath = 'C:/Users/Igor.Liberto/Desktop/produtos_clean/' + image\n",
    "    sku = image.split('.')[0]\n",
    "    file = {'image' : ('myfile', open(imagePath, 'rb'))}\n",
    "    img = cv2.imread(imagePath)\n",
    "    response = requests.post(BASE_URI, headers=HEADERS, files=file)\n",
    "    response.raise_for_status()\n",
    "    resultados={}\n",
    "\n",
    "    for element in response.json()['tags']:\n",
    "        if np.shape(element['actions'])[0] == 2:\n",
    "            if element['actions'][0]['actionType'] == 'VisualSearch':\n",
    "                top_left, bottom_right = auxRectangles(element['boundingBox']['queryRectangle']['topLeft'],\\\n",
    "                                               element['boundingBox']['queryRectangle']['bottomRight'],\\\n",
    "                                               img.shape)\n",
    "                resultados[element['displayName']]={'topLeft':top_left,'bottomRight':bottom_right}\n",
    "            \n",
    "                \n",
    "    for key in resultados.keys():\n",
    "        tl = resultados[key]['topLeft']\n",
    "        br = resultados[key]['bottomRight']\n",
    "        x,y=tl\n",
    "        w = br[0]-tl[0]\n",
    "        h = br[1]-tl[1]\n",
    "        crop_img = img[y:y+h, x:x+w]\n",
    "        cv2.imwrite('C:/Users/Igor.Liberto/Desktop/produtos_cropped/'+sku+'_'+key+'.png',crop_img)\n",
    "        "
   ]
  }
 ],
 "metadata": {
  "kernelspec": {
   "display_name": "Python 3",
   "language": "python",
   "name": "python3"
  },
  "language_info": {
   "codemirror_mode": {
    "name": "ipython",
    "version": 3
   },
   "file_extension": ".py",
   "mimetype": "text/x-python",
   "name": "python",
   "nbconvert_exporter": "python",
   "pygments_lexer": "ipython3",
   "version": "3.6.4"
  }
 },
 "nbformat": 4,
 "nbformat_minor": 2
}
